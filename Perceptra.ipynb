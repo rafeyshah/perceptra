{
  "nbformat": 4,
  "nbformat_minor": 0,
  "metadata": {
    "colab": {
      "provenance": []
    },
    "kernelspec": {
      "name": "python3",
      "display_name": "Python 3"
    },
    "language_info": {
      "name": "python"
    }
  },
  "cells": [
    {
      "cell_type": "code",
      "metadata": {
        "colab": {
          "base_uri": "https://localhost:8080/"
        },
        "id": "9feabe7d",
        "outputId": "1befac80-9a9b-46df-a82a-ff09a659b0ff"
      },
      "source": [
        "!pip install ultralytics opencv-python numpy PyYAML"
      ],
      "execution_count": 1,
      "outputs": [
        {
          "output_type": "stream",
          "name": "stdout",
          "text": [
            "Collecting ultralytics\n",
            "  Downloading ultralytics-8.3.221-py3-none-any.whl.metadata (37 kB)\n",
            "Requirement already satisfied: opencv-python in /usr/local/lib/python3.12/dist-packages (4.12.0.88)\n",
            "Requirement already satisfied: numpy in /usr/local/lib/python3.12/dist-packages (2.0.2)\n",
            "Requirement already satisfied: PyYAML in /usr/local/lib/python3.12/dist-packages (6.0.3)\n",
            "Requirement already satisfied: matplotlib>=3.3.0 in /usr/local/lib/python3.12/dist-packages (from ultralytics) (3.10.0)\n",
            "Requirement already satisfied: pillow>=7.1.2 in /usr/local/lib/python3.12/dist-packages (from ultralytics) (11.3.0)\n",
            "Requirement already satisfied: requests>=2.23.0 in /usr/local/lib/python3.12/dist-packages (from ultralytics) (2.32.4)\n",
            "Requirement already satisfied: scipy>=1.4.1 in /usr/local/lib/python3.12/dist-packages (from ultralytics) (1.16.2)\n",
            "Requirement already satisfied: torch>=1.8.0 in /usr/local/lib/python3.12/dist-packages (from ultralytics) (2.8.0+cu126)\n",
            "Requirement already satisfied: torchvision>=0.9.0 in /usr/local/lib/python3.12/dist-packages (from ultralytics) (0.23.0+cu126)\n",
            "Requirement already satisfied: psutil in /usr/local/lib/python3.12/dist-packages (from ultralytics) (5.9.5)\n",
            "Requirement already satisfied: polars in /usr/local/lib/python3.12/dist-packages (from ultralytics) (1.25.2)\n",
            "Collecting ultralytics-thop>=2.0.0 (from ultralytics)\n",
            "  Downloading ultralytics_thop-2.0.17-py3-none-any.whl.metadata (14 kB)\n",
            "Requirement already satisfied: contourpy>=1.0.1 in /usr/local/lib/python3.12/dist-packages (from matplotlib>=3.3.0->ultralytics) (1.3.3)\n",
            "Requirement already satisfied: cycler>=0.10 in /usr/local/lib/python3.12/dist-packages (from matplotlib>=3.3.0->ultralytics) (0.12.1)\n",
            "Requirement already satisfied: fonttools>=4.22.0 in /usr/local/lib/python3.12/dist-packages (from matplotlib>=3.3.0->ultralytics) (4.60.1)\n",
            "Requirement already satisfied: kiwisolver>=1.3.1 in /usr/local/lib/python3.12/dist-packages (from matplotlib>=3.3.0->ultralytics) (1.4.9)\n",
            "Requirement already satisfied: packaging>=20.0 in /usr/local/lib/python3.12/dist-packages (from matplotlib>=3.3.0->ultralytics) (25.0)\n",
            "Requirement already satisfied: pyparsing>=2.3.1 in /usr/local/lib/python3.12/dist-packages (from matplotlib>=3.3.0->ultralytics) (3.2.5)\n",
            "Requirement already satisfied: python-dateutil>=2.7 in /usr/local/lib/python3.12/dist-packages (from matplotlib>=3.3.0->ultralytics) (2.9.0.post0)\n",
            "Requirement already satisfied: charset_normalizer<4,>=2 in /usr/local/lib/python3.12/dist-packages (from requests>=2.23.0->ultralytics) (3.4.4)\n",
            "Requirement already satisfied: idna<4,>=2.5 in /usr/local/lib/python3.12/dist-packages (from requests>=2.23.0->ultralytics) (3.11)\n",
            "Requirement already satisfied: urllib3<3,>=1.21.1 in /usr/local/lib/python3.12/dist-packages (from requests>=2.23.0->ultralytics) (2.5.0)\n",
            "Requirement already satisfied: certifi>=2017.4.17 in /usr/local/lib/python3.12/dist-packages (from requests>=2.23.0->ultralytics) (2025.10.5)\n",
            "Requirement already satisfied: filelock in /usr/local/lib/python3.12/dist-packages (from torch>=1.8.0->ultralytics) (3.20.0)\n",
            "Requirement already satisfied: typing-extensions>=4.10.0 in /usr/local/lib/python3.12/dist-packages (from torch>=1.8.0->ultralytics) (4.15.0)\n",
            "Requirement already satisfied: setuptools in /usr/local/lib/python3.12/dist-packages (from torch>=1.8.0->ultralytics) (75.2.0)\n",
            "Requirement already satisfied: sympy>=1.13.3 in /usr/local/lib/python3.12/dist-packages (from torch>=1.8.0->ultralytics) (1.13.3)\n",
            "Requirement already satisfied: networkx in /usr/local/lib/python3.12/dist-packages (from torch>=1.8.0->ultralytics) (3.5)\n",
            "Requirement already satisfied: jinja2 in /usr/local/lib/python3.12/dist-packages (from torch>=1.8.0->ultralytics) (3.1.6)\n",
            "Requirement already satisfied: fsspec in /usr/local/lib/python3.12/dist-packages (from torch>=1.8.0->ultralytics) (2025.3.0)\n",
            "Requirement already satisfied: nvidia-cuda-nvrtc-cu12==12.6.77 in /usr/local/lib/python3.12/dist-packages (from torch>=1.8.0->ultralytics) (12.6.77)\n",
            "Requirement already satisfied: nvidia-cuda-runtime-cu12==12.6.77 in /usr/local/lib/python3.12/dist-packages (from torch>=1.8.0->ultralytics) (12.6.77)\n",
            "Requirement already satisfied: nvidia-cuda-cupti-cu12==12.6.80 in /usr/local/lib/python3.12/dist-packages (from torch>=1.8.0->ultralytics) (12.6.80)\n",
            "Requirement already satisfied: nvidia-cudnn-cu12==9.10.2.21 in /usr/local/lib/python3.12/dist-packages (from torch>=1.8.0->ultralytics) (9.10.2.21)\n",
            "Requirement already satisfied: nvidia-cublas-cu12==12.6.4.1 in /usr/local/lib/python3.12/dist-packages (from torch>=1.8.0->ultralytics) (12.6.4.1)\n",
            "Requirement already satisfied: nvidia-cufft-cu12==11.3.0.4 in /usr/local/lib/python3.12/dist-packages (from torch>=1.8.0->ultralytics) (11.3.0.4)\n",
            "Requirement already satisfied: nvidia-curand-cu12==10.3.7.77 in /usr/local/lib/python3.12/dist-packages (from torch>=1.8.0->ultralytics) (10.3.7.77)\n",
            "Requirement already satisfied: nvidia-cusolver-cu12==11.7.1.2 in /usr/local/lib/python3.12/dist-packages (from torch>=1.8.0->ultralytics) (11.7.1.2)\n",
            "Requirement already satisfied: nvidia-cusparse-cu12==12.5.4.2 in /usr/local/lib/python3.12/dist-packages (from torch>=1.8.0->ultralytics) (12.5.4.2)\n",
            "Requirement already satisfied: nvidia-cusparselt-cu12==0.7.1 in /usr/local/lib/python3.12/dist-packages (from torch>=1.8.0->ultralytics) (0.7.1)\n",
            "Requirement already satisfied: nvidia-nccl-cu12==2.27.3 in /usr/local/lib/python3.12/dist-packages (from torch>=1.8.0->ultralytics) (2.27.3)\n",
            "Requirement already satisfied: nvidia-nvtx-cu12==12.6.77 in /usr/local/lib/python3.12/dist-packages (from torch>=1.8.0->ultralytics) (12.6.77)\n",
            "Requirement already satisfied: nvidia-nvjitlink-cu12==12.6.85 in /usr/local/lib/python3.12/dist-packages (from torch>=1.8.0->ultralytics) (12.6.85)\n",
            "Requirement already satisfied: nvidia-cufile-cu12==1.11.1.6 in /usr/local/lib/python3.12/dist-packages (from torch>=1.8.0->ultralytics) (1.11.1.6)\n",
            "Requirement already satisfied: triton==3.4.0 in /usr/local/lib/python3.12/dist-packages (from torch>=1.8.0->ultralytics) (3.4.0)\n",
            "Requirement already satisfied: six>=1.5 in /usr/local/lib/python3.12/dist-packages (from python-dateutil>=2.7->matplotlib>=3.3.0->ultralytics) (1.17.0)\n",
            "Requirement already satisfied: mpmath<1.4,>=1.1.0 in /usr/local/lib/python3.12/dist-packages (from sympy>=1.13.3->torch>=1.8.0->ultralytics) (1.3.0)\n",
            "Requirement already satisfied: MarkupSafe>=2.0 in /usr/local/lib/python3.12/dist-packages (from jinja2->torch>=1.8.0->ultralytics) (3.0.3)\n",
            "Downloading ultralytics-8.3.221-py3-none-any.whl (1.1 MB)\n",
            "\u001b[2K   \u001b[90m━━━━━━━━━━━━━━━━━━━━━━━━━━━━━━━━━━━━━━━━\u001b[0m \u001b[32m1.1/1.1 MB\u001b[0m \u001b[31m21.3 MB/s\u001b[0m eta \u001b[36m0:00:00\u001b[0m\n",
            "\u001b[?25hDownloading ultralytics_thop-2.0.17-py3-none-any.whl (28 kB)\n",
            "Installing collected packages: ultralytics-thop, ultralytics\n",
            "Successfully installed ultralytics-8.3.221 ultralytics-thop-2.0.17\n"
          ]
        }
      ]
    },
    {
      "cell_type": "code",
      "source": [
        "import sqlite3, os, cv2, numpy as np\n",
        "from pathlib import Path\n",
        "from PIL import Image\n",
        "import base64\n",
        "\n",
        "def extract_rgb_frames(bag_dir, out_dir, topic_hint='color', max_frames=50):\n",
        "    bag_path = Path(bag_dir)\n",
        "    db3_files = list(bag_path.glob('*.db3'))\n",
        "    if not db3_files:\n",
        "        raise FileNotFoundError(f\"No .db3 found under {bag_dir}\")\n",
        "    conn = sqlite3.connect(str(db3_files[0]))\n",
        "    c = conn.cursor()\n",
        "\n",
        "    # list all topics\n",
        "    topics = [row[0] for row in c.execute('SELECT name FROM topics')]\n",
        "    print(\"Topics:\", topics)\n",
        "\n",
        "    # pick the first one containing 'image'\n",
        "    topic = [t for t in topics if 'image' in t and topic_hint in t]\n",
        "    if not topic:\n",
        "        topic = [t for t in topics if 'image' in t]\n",
        "    topic = topic[0]\n",
        "    print(\"Using topic:\", topic)\n",
        "\n",
        "    # get topic_id\n",
        "    tid = c.execute(\"SELECT id FROM topics WHERE name=?\", (topic,)).fetchone()[0]\n",
        "    msgs = c.execute(\"SELECT data FROM messages WHERE topic_id=?\", (tid,)).fetchmany(max_frames)\n",
        "\n",
        "    os.makedirs(out_dir, exist_ok=True)\n",
        "    for i,(data,) in enumerate(msgs):\n",
        "        # raw image bytes are serialized as sensor_msgs/Image in ROS2 (binary blob)\n",
        "        # We'll use OpenCV imdecode assuming JPEG encoding\n",
        "        # Find JPEG start marker (FF D8)\n",
        "        idx = data.find(b'\\xff\\xd8')\n",
        "        if idx >= 0:\n",
        "            img_bytes = data[idx:]\n",
        "            img = cv2.imdecode(np.frombuffer(img_bytes, np.uint8), cv2.IMREAD_COLOR)\n",
        "            if img is not None:\n",
        "                out = Path(out_dir)/f\"frame_{i:03d}.jpg\"\n",
        "                cv2.imwrite(str(out), img)\n",
        "    conn.close()\n",
        "    print(f\"[OK] Saved frames to {out_dir}\")\n"
      ],
      "metadata": {
        "id": "SjKvFsGD0oay"
      },
      "execution_count": 2,
      "outputs": []
    },
    {
      "cell_type": "code",
      "source": [
        "extract_rgb_frames(\n",
        "    bag_dir=\"/content/drive/MyDrive/Perceptra/Challenge Surveys/office/rosbag2_2025_10_20-16_09_39\",\n",
        "    out_dir=\"/content/drive/MyDrive/Perceptra/frames/office\",\n",
        "    max_frames=30\n",
        ")\n",
        "\n",
        "extract_rgb_frames(\n",
        "    bag_dir=\"/content/drive/MyDrive/Perceptra/Challenge Surveys/bathroom/rosbag2_2025_10_20-16_47_22\",\n",
        "    out_dir=\"/content/drive/MyDrive/Perceptra/frames/bathroom\",\n",
        "    max_frames=30\n",
        ")\n"
      ],
      "metadata": {
        "colab": {
          "base_uri": "https://localhost:8080/"
        },
        "id": "NpLrccsGzRwd",
        "outputId": "ea91755f-4ddd-4f43-9c9b-b9f3ff41501b"
      },
      "execution_count": 3,
      "outputs": [
        {
          "output_type": "stream",
          "name": "stdout",
          "text": [
            "Topics: ['/imu', '/odom', '/livox/imu', '/livox/lidar', '/zed/zed_node/depth/depth_registered/compressedDepth', '/zed/zed_node/odom', '/scan', '/tf', '/zed/zed_node/rgb/image_rect_color/compressed', '/tf_static', '/zed/zed_node/rgb/camera_info']\n",
            "Using topic: /zed/zed_node/rgb/image_rect_color/compressed\n",
            "[OK] Saved frames to /content/drive/MyDrive/Perceptra/frames/office\n",
            "Topics: ['/imu', '/odom', '/livox/imu', '/livox/lidar', '/scan', '/tf', '/tf_static', '/zed/zed_node/depth/depth_registered/compressedDepth', '/zed/zed_node/odom', '/zed/zed_node/rgb/image_rect_color/compressed', '/zed/zed_node/rgb/camera_info']\n",
            "Using topic: /zed/zed_node/rgb/image_rect_color/compressed\n",
            "[OK] Saved frames to /content/drive/MyDrive/Perceptra/frames/bathroom\n"
          ]
        }
      ]
    },
    {
      "cell_type": "code",
      "source": [
        "# Sanity Check\n",
        "!yolo detect predict model=yolov8l.pt source=\"/content/drive/MyDrive/Perceptra/frames/office\" conf=0.4 save=True\n"
      ],
      "metadata": {
        "colab": {
          "base_uri": "https://localhost:8080/"
        },
        "id": "TcIl7xP757zm",
        "outputId": "6fe70907-f340-410b-d4cf-5ccfe5e58bd3"
      },
      "execution_count": 4,
      "outputs": [
        {
          "output_type": "stream",
          "name": "stdout",
          "text": [
            "Creating new Ultralytics Settings v0.0.6 file ✅ \n",
            "View Ultralytics Settings with 'yolo settings' or at '/root/.config/Ultralytics/settings.json'\n",
            "Update Settings with 'yolo settings key=value', i.e. 'yolo settings runs_dir=path/to/dir'. For help see https://docs.ultralytics.com/quickstart/#ultralytics-settings.\n",
            "\u001b[KDownloading https://github.com/ultralytics/assets/releases/download/v8.3.0/yolov8l.pt to 'yolov8l.pt': 100% ━━━━━━━━━━━━ 83.7MB 220.5MB/s 0.4s\n",
            "Ultralytics 8.3.221 🚀 Python-3.12.12 torch-2.8.0+cu126 CPU (AMD EPYC 7B12)\n",
            "YOLOv8l summary (fused): 112 layers, 43,668,288 parameters, 0 gradients, 165.2 GFLOPs\n",
            "\n",
            "image 1/30 /content/drive/MyDrive/Perceptra/frames/office/frame_000.jpg: 384x640 1 chair, 1 potted plant, 3 tvs, 1348.7ms\n",
            "image 2/30 /content/drive/MyDrive/Perceptra/frames/office/frame_001.jpg: 384x640 1 chair, 1 potted plant, 3 tvs, 1251.3ms\n",
            "image 3/30 /content/drive/MyDrive/Perceptra/frames/office/frame_002.jpg: 384x640 1 chair, 1 potted plant, 3 tvs, 1265.7ms\n",
            "image 4/30 /content/drive/MyDrive/Perceptra/frames/office/frame_003.jpg: 384x640 1 chair, 1 potted plant, 3 tvs, 1295.7ms\n",
            "image 5/30 /content/drive/MyDrive/Perceptra/frames/office/frame_004.jpg: 384x640 1 chair, 2 potted plants, 3 tvs, 1231.7ms\n",
            "image 6/30 /content/drive/MyDrive/Perceptra/frames/office/frame_005.jpg: 384x640 1 chair, 1 potted plant, 3 tvs, 1249.6ms\n",
            "image 7/30 /content/drive/MyDrive/Perceptra/frames/office/frame_006.jpg: 384x640 1 chair, 1 potted plant, 3 tvs, 1463.7ms\n",
            "image 8/30 /content/drive/MyDrive/Perceptra/frames/office/frame_007.jpg: 384x640 1 chair, 1 potted plant, 3 tvs, 1409.4ms\n",
            "image 9/30 /content/drive/MyDrive/Perceptra/frames/office/frame_008.jpg: 384x640 1 chair, 1 potted plant, 3 tvs, 1236.1ms\n",
            "image 10/30 /content/drive/MyDrive/Perceptra/frames/office/frame_009.jpg: 384x640 1 chair, 1 potted plant, 3 tvs, 1265.3ms\n",
            "image 11/30 /content/drive/MyDrive/Perceptra/frames/office/frame_010.jpg: 384x640 1 chair, 1 potted plant, 3 tvs, 1244.7ms\n",
            "image 12/30 /content/drive/MyDrive/Perceptra/frames/office/frame_011.jpg: 384x640 1 chair, 2 potted plants, 3 tvs, 1247.7ms\n",
            "image 13/30 /content/drive/MyDrive/Perceptra/frames/office/frame_012.jpg: 384x640 1 chair, 1 couch, 1 potted plant, 3 tvs, 1239.3ms\n",
            "image 14/30 /content/drive/MyDrive/Perceptra/frames/office/frame_013.jpg: 384x640 1 chair, 1 potted plant, 3 tvs, 1217.6ms\n",
            "image 15/30 /content/drive/MyDrive/Perceptra/frames/office/frame_014.jpg: 384x640 1 chair, 1 potted plant, 3 tvs, 1247.2ms\n",
            "image 16/30 /content/drive/MyDrive/Perceptra/frames/office/frame_015.jpg: 384x640 1 chair, 1 couch, 1 potted plant, 3 tvs, 1435.9ms\n",
            "image 17/30 /content/drive/MyDrive/Perceptra/frames/office/frame_016.jpg: 384x640 1 chair, 1 potted plant, 3 tvs, 1412.7ms\n",
            "image 18/30 /content/drive/MyDrive/Perceptra/frames/office/frame_017.jpg: 384x640 1 chair, 1 potted plant, 3 tvs, 1262.0ms\n",
            "image 19/30 /content/drive/MyDrive/Perceptra/frames/office/frame_018.jpg: 384x640 1 chair, 1 potted plant, 3 tvs, 1256.3ms\n",
            "image 20/30 /content/drive/MyDrive/Perceptra/frames/office/frame_019.jpg: 384x640 1 chair, 1 potted plant, 3 tvs, 1223.0ms\n",
            "image 21/30 /content/drive/MyDrive/Perceptra/frames/office/frame_020.jpg: 384x640 1 chair, 1 potted plant, 3 tvs, 1225.2ms\n",
            "image 22/30 /content/drive/MyDrive/Perceptra/frames/office/frame_021.jpg: 384x640 1 chair, 1 couch, 1 potted plant, 3 tvs, 1231.3ms\n",
            "image 23/30 /content/drive/MyDrive/Perceptra/frames/office/frame_022.jpg: 384x640 1 chair, 1 potted plant, 3 tvs, 1233.1ms\n",
            "image 24/30 /content/drive/MyDrive/Perceptra/frames/office/frame_023.jpg: 384x640 1 chair, 2 potted plants, 3 tvs, 1216.8ms\n",
            "image 25/30 /content/drive/MyDrive/Perceptra/frames/office/frame_024.jpg: 384x640 1 chair, 1 potted plant, 3 tvs, 1339.2ms\n",
            "image 26/30 /content/drive/MyDrive/Perceptra/frames/office/frame_025.jpg: 384x640 1 chair, 1 potted plant, 3 tvs, 1499.2ms\n",
            "image 27/30 /content/drive/MyDrive/Perceptra/frames/office/frame_026.jpg: 384x640 1 chair, 1 couch, 1 potted plant, 3 tvs, 1258.2ms\n",
            "image 28/30 /content/drive/MyDrive/Perceptra/frames/office/frame_027.jpg: 384x640 1 chair, 1 potted plant, 3 tvs, 1242.7ms\n",
            "image 29/30 /content/drive/MyDrive/Perceptra/frames/office/frame_028.jpg: 384x640 1 chair, 1 couch, 1 potted plant, 3 tvs, 1242.4ms\n",
            "image 30/30 /content/drive/MyDrive/Perceptra/frames/office/frame_029.jpg: 384x640 1 chair, 2 potted plants, 3 tvs, 1231.6ms\n",
            "Speed: 1.8ms preprocess, 1284.1ms inference, 2.1ms postprocess per image at shape (1, 3, 384, 640)\n",
            "Results saved to \u001b[1m/content/runs/detect/predict\u001b[0m\n",
            "💡 Learn more at https://docs.ultralytics.com/modes/predict\n"
          ]
        }
      ]
    },
    {
      "cell_type": "code",
      "source": [
        "!python /content/drive/MyDrive/Perceptra/scripts/detect_and_overlay.py \\\n",
        "  --room-pgm \"/content/drive/MyDrive/Perceptra/Challenge Surveys/office/room.pgm\" \\\n",
        "  --rgb-dir  \"/content/drive/MyDrive/Perceptra/frames/office\" \\\n",
        "  --out-dir  results/office \\\n",
        "  --only-best-frame\n"
      ],
      "metadata": {
        "colab": {
          "base_uri": "https://localhost:8080/"
        },
        "id": "3ZtYKMkVyxdV",
        "outputId": "026f932b-0500-4bde-83fa-5b50e41f1286"
      },
      "execution_count": 11,
      "outputs": [
        {
          "output_type": "stream",
          "name": "stdout",
          "text": [
            "[INFO] Using best frame: frame_019.jpg (score=1.012)\n",
            "[OK] Wrote detections: results/office/detections.json (2 boxes)\n",
            "[OK] Wrote overlay: results/office/map_with_detections.png\n"
          ]
        }
      ]
    },
    {
      "cell_type": "code",
      "source": [
        "!python /content/drive/MyDrive/Perceptra/scripts/detect_and_overlay.py \\\n",
        "  --room-pgm \"/content/drive/MyDrive/Perceptra/Challenge Surveys/bathroom/room.pgm\" \\\n",
        "  --rgb-dir  \"/content/drive/MyDrive/Perceptra/frames/bathroom\" \\\n",
        "  --out-dir  results/bathroom \\\n",
        "  --only-best-frame\n"
      ],
      "metadata": {
        "colab": {
          "base_uri": "https://localhost:8080/"
        },
        "id": "Mx9VzNnu2Efx",
        "outputId": "b011da4d-3fb7-4778-ac0b-634d8827b3ca"
      },
      "execution_count": 12,
      "outputs": [
        {
          "output_type": "stream",
          "name": "stdout",
          "text": [
            "[OK] Wrote detections: results/bathroom/detections.json (0 boxes)\n",
            "[WARN] No detections found; skipping overlay.\n"
          ]
        }
      ]
    }
  ]
}