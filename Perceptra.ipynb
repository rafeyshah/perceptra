{
  "nbformat": 4,
  "nbformat_minor": 0,
  "metadata": {
    "colab": {
      "provenance": []
    },
    "kernelspec": {
      "name": "python3",
      "display_name": "Python 3"
    },
    "language_info": {
      "name": "python"
    }
  },
  "cells": [
    {
      "cell_type": "code",
      "metadata": {
        "colab": {
          "base_uri": "https://localhost:8080/"
        },
        "id": "9feabe7d",
        "outputId": "da280595-b2c4-4816-950f-b169a06d29fd"
      },
      "source": [
        "# basics\n",
        "!pip -q install rosbags open3d opencv-python-headless numpy pyyaml tqdm ultralytics\n",
        "\n",
        "# (optional) speedups\n",
        "# import os; os.environ[\"OMP_NUM_THREADS\"] = \"1\"\n",
        "\n",
        "# !pip install rosbags ultralytics opencv-python numpy PyYAML open3d tqdm"
      ],
      "execution_count": 1,
      "outputs": [
        {
          "output_type": "stream",
          "name": "stdout",
          "text": [
            "\u001b[2K   \u001b[90m━━━━━━━━━━━━━━━━━━━━━━━━━━━━━━━━━━━━━━━━\u001b[0m \u001b[32m137.9/137.9 kB\u001b[0m \u001b[31m5.0 MB/s\u001b[0m eta \u001b[36m0:00:00\u001b[0m\n",
            "\u001b[2K   \u001b[90m━━━━━━━━━━━━━━━━━━━━━━━━━━━━━━━━━━━━━━━━\u001b[0m \u001b[32m447.7/447.7 MB\u001b[0m \u001b[31m1.8 MB/s\u001b[0m eta \u001b[36m0:00:00\u001b[0m\n",
            "\u001b[2K   \u001b[90m━━━━━━━━━━━━━━━━━━━━━━━━━━━━━━━━━━━━━━━━\u001b[0m \u001b[32m1.1/1.1 MB\u001b[0m \u001b[31m69.1 MB/s\u001b[0m eta \u001b[36m0:00:00\u001b[0m\n",
            "\u001b[2K   \u001b[90m━━━━━━━━━━━━━━━━━━━━━━━━━━━━━━━━━━━━━━━━\u001b[0m \u001b[32m7.9/7.9 MB\u001b[0m \u001b[31m101.5 MB/s\u001b[0m eta \u001b[36m0:00:00\u001b[0m\n",
            "\u001b[2K   \u001b[90m━━━━━━━━━━━━━━━━━━━━━━━━━━━━━━━━━━━━━━━━\u001b[0m \u001b[32m139.8/139.8 kB\u001b[0m \u001b[31m13.2 MB/s\u001b[0m eta \u001b[36m0:00:00\u001b[0m\n",
            "\u001b[2K   \u001b[90m━━━━━━━━━━━━━━━━━━━━━━━━━━━━━━━━━━━━━━━━\u001b[0m \u001b[32m1.3/1.3 MB\u001b[0m \u001b[31m62.1 MB/s\u001b[0m eta \u001b[36m0:00:00\u001b[0m\n",
            "\u001b[2K   \u001b[90m━━━━━━━━━━━━━━━━━━━━━━━━━━━━━━━━━━━━━━━━\u001b[0m \u001b[32m119.9/119.9 kB\u001b[0m \u001b[31m9.8 MB/s\u001b[0m eta \u001b[36m0:00:00\u001b[0m\n",
            "\u001b[2K   \u001b[90m━━━━━━━━━━━━━━━━━━━━━━━━━━━━━━━━━━━━━━━━\u001b[0m \u001b[32m753.1/753.1 kB\u001b[0m \u001b[31m49.0 MB/s\u001b[0m eta \u001b[36m0:00:00\u001b[0m\n",
            "\u001b[2K   \u001b[90m━━━━━━━━━━━━━━━━━━━━━━━━━━━━━━━━━━━━━━━━\u001b[0m \u001b[32m2.2/2.2 MB\u001b[0m \u001b[31m78.1 MB/s\u001b[0m eta \u001b[36m0:00:00\u001b[0m\n",
            "\u001b[2K   \u001b[90m━━━━━━━━━━━━━━━━━━━━━━━━━━━━━━━━━━━━━━━━\u001b[0m \u001b[32m1.6/1.6 MB\u001b[0m \u001b[31m67.0 MB/s\u001b[0m eta \u001b[36m0:00:00\u001b[0m\n",
            "\u001b[?25h"
          ]
        }
      ]
    },
    {
      "cell_type": "code",
      "source": [
        "pip install open3d -q\n"
      ],
      "metadata": {
        "id": "dK69PVoCVvfU"
      },
      "execution_count": 7,
      "outputs": []
    },
    {
      "cell_type": "code",
      "source": [
        "from google.colab import drive\n",
        "drive.mount('/content/drive')\n",
        "\n",
        "# Point these to your actual paths on Drive:\n",
        "!cp \"/content/drive/MyDrive/Perceptra/scripts/list_bag_topics.py\" /content/\n",
        "!cp \"/content/drive/MyDrive/Perceptra/scripts/colorize_and_merge.py\" /content/\n"
      ],
      "metadata": {
        "colab": {
          "base_uri": "https://localhost:8080/"
        },
        "id": "LAxE9YK_7N1X",
        "outputId": "fd4f6152-7c45-4d6e-a9d5-2f536641496a"
      },
      "execution_count": 2,
      "outputs": [
        {
          "output_type": "stream",
          "name": "stdout",
          "text": [
            "Mounted at /content/drive\n"
          ]
        }
      ]
    },
    {
      "cell_type": "code",
      "source": [
        "import sqlite3, os, cv2, numpy as np\n",
        "from pathlib import Path\n",
        "from PIL import Image\n",
        "import base64\n",
        "\n",
        "def extract_rgb_frames(bag_dir, out_dir, topic_hint='color', max_frames=50):\n",
        "    bag_path = Path(bag_dir)\n",
        "    db3_files = list(bag_path.glob('*.db3'))\n",
        "    if not db3_files:\n",
        "        raise FileNotFoundError(f\"No .db3 found under {bag_dir}\")\n",
        "    conn = sqlite3.connect(str(db3_files[0]))\n",
        "    c = conn.cursor()\n",
        "\n",
        "    # list all topics\n",
        "    topics = [row[0] for row in c.execute('SELECT name FROM topics')]\n",
        "    print(\"Topics:\", topics)\n",
        "\n",
        "    # pick the first one containing 'image'\n",
        "    topic = [t for t in topics if 'image' in t and topic_hint in t]\n",
        "    if not topic:\n",
        "        topic = [t for t in topics if 'image' in t]\n",
        "    topic = topic[0]\n",
        "    print(\"Using topic:\", topic)\n",
        "\n",
        "    # get topic_id\n",
        "    tid = c.execute(\"SELECT id FROM topics WHERE name=?\", (topic,)).fetchone()[0]\n",
        "    msgs = c.execute(\"SELECT data FROM messages WHERE topic_id=?\", (tid,)).fetchmany(max_frames)\n",
        "\n",
        "    os.makedirs(out_dir, exist_ok=True)\n",
        "    for i,(data,) in enumerate(msgs):\n",
        "        # raw image bytes are serialized as sensor_msgs/Image in ROS2 (binary blob)\n",
        "        # We'll use OpenCV imdecode assuming JPEG encoding\n",
        "        # Find JPEG start marker (FF D8)\n",
        "        idx = data.find(b'\\xff\\xd8')\n",
        "        if idx >= 0:\n",
        "            img_bytes = data[idx:]\n",
        "            img = cv2.imdecode(np.frombuffer(img_bytes, np.uint8), cv2.IMREAD_COLOR)\n",
        "            if img is not None:\n",
        "                out = Path(out_dir)/f\"frame_{i:03d}.jpg\"\n",
        "                cv2.imwrite(str(out), img)\n",
        "    conn.close()\n",
        "    print(f\"[OK] Saved frames to {out_dir}\")\n"
      ],
      "metadata": {
        "id": "SjKvFsGD0oay"
      },
      "execution_count": 3,
      "outputs": []
    },
    {
      "cell_type": "code",
      "source": [
        "extract_rgb_frames(\n",
        "    bag_dir=\"/content/drive/MyDrive/Perceptra/Challenge Surveys/office/rosbag2_2025_10_20-16_09_39\",\n",
        "    out_dir=\"/content/drive/MyDrive/Perceptra/frames/office\",\n",
        "    max_frames=30\n",
        ")\n",
        "\n",
        "extract_rgb_frames(\n",
        "    bag_dir=\"/content/drive/MyDrive/Perceptra/Challenge Surveys/bathroom/rosbag2_2025_10_20-16_47_22\",\n",
        "    out_dir=\"/content/drive/MyDrive/Perceptra/frames/bathroom\",\n",
        "    max_frames=30\n",
        ")\n"
      ],
      "metadata": {
        "colab": {
          "base_uri": "https://localhost:8080/"
        },
        "id": "NpLrccsGzRwd",
        "outputId": "b2a0779c-616d-488d-de2a-ed892c627c7a"
      },
      "execution_count": 4,
      "outputs": [
        {
          "output_type": "stream",
          "name": "stdout",
          "text": [
            "Topics: ['/imu', '/odom', '/livox/imu', '/livox/lidar', '/zed/zed_node/depth/depth_registered/compressedDepth', '/zed/zed_node/odom', '/scan', '/tf', '/zed/zed_node/rgb/image_rect_color/compressed', '/tf_static', '/zed/zed_node/rgb/camera_info']\n",
            "Using topic: /zed/zed_node/rgb/image_rect_color/compressed\n",
            "[OK] Saved frames to /content/drive/MyDrive/Perceptra/frames/office\n",
            "Topics: ['/imu', '/odom', '/livox/imu', '/livox/lidar', '/scan', '/tf', '/tf_static', '/zed/zed_node/depth/depth_registered/compressedDepth', '/zed/zed_node/odom', '/zed/zed_node/rgb/image_rect_color/compressed', '/zed/zed_node/rgb/camera_info']\n",
            "Using topic: /zed/zed_node/rgb/image_rect_color/compressed\n",
            "[OK] Saved frames to /content/drive/MyDrive/Perceptra/frames/bathroom\n"
          ]
        }
      ]
    },
    {
      "cell_type": "code",
      "source": [
        "# # Sanity Check\n",
        "# !yolo detect predict model=yolov8l.pt source=\"/content/drive/MyDrive/Perceptra/frames/office\" conf=0.4 save=True\n"
      ],
      "metadata": {
        "id": "TcIl7xP757zm"
      },
      "execution_count": 5,
      "outputs": []
    },
    {
      "cell_type": "code",
      "source": [
        "!python /content/drive/MyDrive/Perceptra/scripts/detect_and_overlay.py \\\n",
        "  --room-yaml \"/content/drive/MyDrive/Perceptra/Challenge Surveys/office/room.yaml\" \\\n",
        "  --room-pgm  \"/content/drive/MyDrive/Perceptra/Challenge Surveys/office/room.pgm\" \\\n",
        "  --rgb-dir   \"/content/drive/MyDrive/Perceptra/frames/office\" \\\n",
        "  --out-dir   results/office \\\n",
        "  --model yolov8n.pt \\\n",
        "  --only-best-frame\n",
        "\n"
      ],
      "metadata": {
        "colab": {
          "base_uri": "https://localhost:8080/"
        },
        "id": "3ZtYKMkVyxdV",
        "outputId": "2a567ed3-3fcd-4d76-9eeb-f2a32c393b41"
      },
      "execution_count": 6,
      "outputs": [
        {
          "output_type": "stream",
          "name": "stdout",
          "text": [
            "Creating new Ultralytics Settings v0.0.6 file ✅ \n",
            "View Ultralytics Settings with 'yolo settings' or at '/root/.config/Ultralytics/settings.json'\n",
            "Update Settings with 'yolo settings key=value', i.e. 'yolo settings runs_dir=path/to/dir'. For help see https://docs.ultralytics.com/quickstart/#ultralytics-settings.\n",
            "\u001b[KDownloading https://github.com/ultralytics/assets/releases/download/v8.3.0/yolov8n.pt to 'yolov8n.pt': 100% ━━━━━━━━━━━━ 6.2MB 77.9MB/s 0.1s\n",
            "[INFO] Using best frame frame_019.jpg\n",
            "[OK] Saved 2 detections → results/office/detections.json\n",
            "[OK] Saved overlay → results/office/map_with_detections.png\n"
          ]
        }
      ]
    },
    {
      "cell_type": "code",
      "source": [
        "!python /content/drive/MyDrive/Perceptra/scripts/detect_and_overlay.py \\\n",
        "  --room-yaml \"/content/drive/MyDrive/Perceptra/Challenge Surveys/bathroom/room.yaml\" \\\n",
        "  --room-pgm  \"/content/drive/MyDrive/Perceptra/Challenge Surveys/bathroom/room.pgm\" \\\n",
        "  --rgb-dir   \"/content/drive/MyDrive/Perceptra/frames/bathroom\" \\\n",
        "  --out-dir   results/bathroom \\\n",
        "  --model yolov8n.pt \\\n",
        "  --only-best-frame\n"
      ],
      "metadata": {
        "colab": {
          "base_uri": "https://localhost:8080/"
        },
        "id": "Mx9VzNnu2Efx",
        "outputId": "0486471b-a4cf-4c79-f19b-032e13000c42"
      },
      "execution_count": 7,
      "outputs": [
        {
          "output_type": "stream",
          "name": "stdout",
          "text": [
            "[OK] Saved 0 detections → results/bathroom/detections.json\n",
            "[OK] Saved overlay → results/bathroom/map_with_detections.png\n"
          ]
        }
      ]
    },
    {
      "cell_type": "code",
      "source": [
        "BAG = \"/content/drive/MyDrive/Perceptra/Challenge Surveys/office/rosbag2_2025_10_20-16_09_39\"\n",
        "\n",
        "!python /content/list_bag_topics.py --bags \"$BAG\"\n"
      ],
      "metadata": {
        "colab": {
          "base_uri": "https://localhost:8080/"
        },
        "id": "ypGKB1zw8uyl",
        "outputId": "5d49bbf0-0750-4393-ff0d-d2310e76e25b"
      },
      "execution_count": 19,
      "outputs": [
        {
          "output_type": "stream",
          "name": "stdout",
          "text": [
            "== Available topics ==\n",
            "/imu                                           sensor_msgs/msg/Imu\n",
            "/imu                                           sensor_msgs/msg/Imu\n",
            "/imu                                           sensor_msgs/msg/Imu\n",
            "/imu                                           sensor_msgs/msg/Imu\n",
            "/imu                                           sensor_msgs/msg/Imu\n",
            "/imu                                           sensor_msgs/msg/Imu\n",
            "/livox/imu                                     sensor_msgs/msg/Imu\n",
            "/livox/imu                                     sensor_msgs/msg/Imu\n",
            "/livox/imu                                     sensor_msgs/msg/Imu\n",
            "/livox/imu                                     sensor_msgs/msg/Imu\n",
            "/livox/imu                                     sensor_msgs/msg/Imu\n",
            "/livox/imu                                     sensor_msgs/msg/Imu\n",
            "/livox/lidar                                   sensor_msgs/msg/PointCloud2\n",
            "/livox/lidar                                   sensor_msgs/msg/PointCloud2\n",
            "/livox/lidar                                   sensor_msgs/msg/PointCloud2\n",
            "/livox/lidar                                   sensor_msgs/msg/PointCloud2\n",
            "/livox/lidar                                   sensor_msgs/msg/PointCloud2\n",
            "/livox/lidar                                   sensor_msgs/msg/PointCloud2\n",
            "/odom                                          nav_msgs/msg/Odometry\n",
            "/odom                                          nav_msgs/msg/Odometry\n",
            "/odom                                          nav_msgs/msg/Odometry\n",
            "/odom                                          nav_msgs/msg/Odometry\n",
            "/odom                                          nav_msgs/msg/Odometry\n",
            "/odom                                          nav_msgs/msg/Odometry\n",
            "/scan                                          sensor_msgs/msg/LaserScan\n",
            "/scan                                          sensor_msgs/msg/LaserScan\n",
            "/scan                                          sensor_msgs/msg/LaserScan\n",
            "/scan                                          sensor_msgs/msg/LaserScan\n",
            "/scan                                          sensor_msgs/msg/LaserScan\n",
            "/scan                                          sensor_msgs/msg/LaserScan\n",
            "/tf                                            tf2_msgs/msg/TFMessage\n",
            "/tf                                            tf2_msgs/msg/TFMessage\n",
            "/tf                                            tf2_msgs/msg/TFMessage\n",
            "/tf                                            tf2_msgs/msg/TFMessage\n",
            "/tf                                            tf2_msgs/msg/TFMessage\n",
            "/tf                                            tf2_msgs/msg/TFMessage\n",
            "/tf_static                                     tf2_msgs/msg/TFMessage\n",
            "/zed/zed_node/depth/depth_registered/compressedDepth  sensor_msgs/msg/CompressedImage\n",
            "/zed/zed_node/depth/depth_registered/compressedDepth  sensor_msgs/msg/CompressedImage\n",
            "/zed/zed_node/depth/depth_registered/compressedDepth  sensor_msgs/msg/CompressedImage\n",
            "/zed/zed_node/depth/depth_registered/compressedDepth  sensor_msgs/msg/CompressedImage\n",
            "/zed/zed_node/depth/depth_registered/compressedDepth  sensor_msgs/msg/CompressedImage\n",
            "/zed/zed_node/depth/depth_registered/compressedDepth  sensor_msgs/msg/CompressedImage\n",
            "/zed/zed_node/odom                             nav_msgs/msg/Odometry\n",
            "/zed/zed_node/odom                             nav_msgs/msg/Odometry\n",
            "/zed/zed_node/odom                             nav_msgs/msg/Odometry\n",
            "/zed/zed_node/odom                             nav_msgs/msg/Odometry\n",
            "/zed/zed_node/odom                             nav_msgs/msg/Odometry\n",
            "/zed/zed_node/odom                             nav_msgs/msg/Odometry\n",
            "/zed/zed_node/rgb/camera_info                  sensor_msgs/msg/CameraInfo\n",
            "/zed/zed_node/rgb/camera_info                  sensor_msgs/msg/CameraInfo\n",
            "/zed/zed_node/rgb/camera_info                  sensor_msgs/msg/CameraInfo\n",
            "/zed/zed_node/rgb/camera_info                  sensor_msgs/msg/CameraInfo\n",
            "/zed/zed_node/rgb/camera_info                  sensor_msgs/msg/CameraInfo\n",
            "/zed/zed_node/rgb/camera_info                  sensor_msgs/msg/CameraInfo\n",
            "/zed/zed_node/rgb/image_rect_color/compressed  sensor_msgs/msg/CompressedImage\n",
            "/zed/zed_node/rgb/image_rect_color/compressed  sensor_msgs/msg/CompressedImage\n",
            "/zed/zed_node/rgb/image_rect_color/compressed  sensor_msgs/msg/CompressedImage\n",
            "/zed/zed_node/rgb/image_rect_color/compressed  sensor_msgs/msg/CompressedImage\n",
            "/zed/zed_node/rgb/image_rect_color/compressed  sensor_msgs/msg/CompressedImage\n",
            "/zed/zed_node/rgb/image_rect_color/compressed  sensor_msgs/msg/CompressedImage\n",
            "\n",
            "Pick:\n",
            "  --cloud-topic  <topic with sensor_msgs/msg/PointCloud2>\n",
            "  --image-topic  <topic with sensor_msgs/msg/Image>\n",
            "  --caminfo-topic <topic with sensor_msgs/msg/CameraInfo>\n"
          ]
        }
      ]
    },
    {
      "cell_type": "code",
      "source": [
        "!python /content/drive/MyDrive/Perceptra/scripts/colorize_and_merge.py \\\n",
        "  --bags \"{BAG}\" \\\n",
        "  --cloud-topic \"/livox/lidar\" \\\n",
        "  --image-topic \"/zed/zed_node/rgb/image_rect_color/compressed\" \\\n",
        "  --caminfo-topic \"/zed/zed_node/rgb/camera_info\" \\\n",
        "  --tf-topics /tf /tf_static \\\n",
        "  --world-frame base_link \\\n",
        "  --sync-tol 0.5 \\\n",
        "  --stride 6 \\\n",
        "  --max-clouds 600 \\\n",
        "  --voxel 0.15 \\\n",
        "  --verbose \\\n",
        "  --out /content/office_colored.ply\n"
      ],
      "metadata": {
        "colab": {
          "base_uri": "https://localhost:8080/"
        },
        "id": "xZm8m4IcdRHJ",
        "outputId": "a79dc901-7273-4652-ad6f-20bc44403748"
      },
      "execution_count": 28,
      "outputs": [
        {
          "output_type": "stream",
          "name": "stdout",
          "text": [
            "[INFO] clouds: 100  images: 3585  camera frames: ['zed_left_camera_optical_frame']\n",
            "\rColorizing & merging clouds:   0% 0/100 [00:00<?, ?it/s][DBG] img_frame='zed_left_camera_optical_frame'  K=ok  TF_img=ok\n",
            "[DBG] img_frame='zed_left_camera_optical_frame'  K=ok  TF_img=ok\n",
            "[DBG] img_frame='zed_left_camera_optical_frame'  K=ok  TF_img=ok\n",
            "[DBG] img_frame='zed_left_camera_optical_frame'  K=ok  TF_img=ok\n",
            "[DBG] img_frame='zed_left_camera_optical_frame'  K=ok  TF_img=ok\n",
            "[DBG] img_frame='zed_left_camera_optical_frame'  K=ok  TF_img=ok\n",
            "[DBG] img_frame='zed_left_camera_optical_frame'  K=ok  TF_img=ok\n",
            "[DBG] img_frame='zed_left_camera_optical_frame'  K=ok  TF_img=ok\n",
            "[DBG] img_frame='zed_left_camera_optical_frame'  K=ok  TF_img=ok\n",
            "[DBG] img_frame='zed_left_camera_optical_frame'  K=ok  TF_img=ok\n",
            "[DBG] img_frame='zed_left_camera_optical_frame'  K=ok  TF_img=ok\n",
            "[DBG] img_frame='zed_left_camera_optical_frame'  K=ok  TF_img=ok\n",
            "[DBG] img_frame='zed_left_camera_optical_frame'  K=ok  TF_img=ok\n",
            "[DBG] img_frame='zed_left_camera_optical_frame'  K=ok  TF_img=ok\n",
            "[DBG] img_frame='zed_left_camera_optical_frame'  K=ok  TF_img=ok\n",
            "[DBG] img_frame='zed_left_camera_optical_frame'  K=ok  TF_img=ok\n",
            "[DBG] img_frame='zed_left_camera_optical_frame'  K=ok  TF_img=ok\n",
            "[DBG] img_frame='zed_left_camera_optical_frame'  K=ok  TF_img=ok\n",
            "[DBG] img_frame='zed_left_camera_optical_frame'  K=ok  TF_img=ok\n",
            "[DBG] img_frame='zed_left_camera_optical_frame'  K=ok  TF_img=ok\n",
            "[DBG] img_frame='zed_left_camera_optical_frame'  K=ok  TF_img=ok\n",
            "[DBG] img_frame='zed_left_camera_optical_frame'  K=ok  TF_img=ok\n",
            "[DBG] img_frame='zed_left_camera_optical_frame'  K=ok  TF_img=ok\n",
            "[DBG] img_frame='zed_left_camera_optical_frame'  K=ok  TF_img=ok\n",
            "[DBG] img_frame='zed_left_camera_optical_frame'  K=ok  TF_img=ok\n",
            "[DBG] img_frame='zed_left_camera_optical_frame'  K=ok  TF_img=ok\n",
            "[DBG] img_frame='zed_left_camera_optical_frame'  K=ok  TF_img=ok\n",
            "[DBG] img_frame='zed_left_camera_optical_frame'  K=ok  TF_img=ok\n",
            "[DBG] img_frame='zed_left_camera_optical_frame'  K=ok  TF_img=ok\n",
            "[DBG] img_frame='zed_left_camera_optical_frame'  K=ok  TF_img=ok\n",
            "[DBG] img_frame='zed_left_camera_optical_frame'  K=ok  TF_img=ok\n",
            "[DBG] img_frame='zed_left_camera_optical_frame'  K=ok  TF_img=ok\n",
            "[DBG] img_frame='zed_left_camera_optical_frame'  K=ok  TF_img=ok\n",
            "[DBG] img_frame='zed_left_camera_optical_frame'  K=ok  TF_img=ok\n",
            "[DBG] img_frame='zed_left_camera_optical_frame'  K=ok  TF_img=ok\n",
            "[DBG] img_frame='zed_left_camera_optical_frame'  K=ok  TF_img=ok\n",
            "\rColorizing & merging clouds:  36% 36/100 [00:00<00:00, 359.29it/s][DBG] img_frame='zed_left_camera_optical_frame'  K=ok  TF_img=ok\n",
            "[DBG] img_frame='zed_left_camera_optical_frame'  K=ok  TF_img=ok\n",
            "[DBG] img_frame='zed_left_camera_optical_frame'  K=ok  TF_img=ok\n",
            "[DBG] img_frame='zed_left_camera_optical_frame'  K=ok  TF_img=ok\n",
            "[DBG] img_frame='zed_left_camera_optical_frame'  K=ok  TF_img=ok\n",
            "[DBG] img_frame='zed_left_camera_optical_frame'  K=ok  TF_img=ok\n",
            "[DBG] img_frame='zed_left_camera_optical_frame'  K=ok  TF_img=ok\n",
            "[DBG] img_frame='zed_left_camera_optical_frame'  K=ok  TF_img=ok\n",
            "[DBG] img_frame='zed_left_camera_optical_frame'  K=ok  TF_img=ok\n",
            "[DBG] img_frame='zed_left_camera_optical_frame'  K=ok  TF_img=ok\n",
            "[DBG] img_frame='zed_left_camera_optical_frame'  K=ok  TF_img=ok\n",
            "[DBG] img_frame='zed_left_camera_optical_frame'  K=ok  TF_img=ok\n",
            "[DBG] img_frame='zed_left_camera_optical_frame'  K=ok  TF_img=ok\n",
            "[DBG] img_frame='zed_left_camera_optical_frame'  K=ok  TF_img=ok\n",
            "[DBG] img_frame='zed_left_camera_optical_frame'  K=ok  TF_img=ok\n",
            "[DBG] img_frame='zed_left_camera_optical_frame'  K=ok  TF_img=ok\n",
            "[DBG] img_frame='zed_left_camera_optical_frame'  K=ok  TF_img=ok\n",
            "[DBG] img_frame='zed_left_camera_optical_frame'  K=ok  TF_img=ok\n",
            "[DBG] img_frame='zed_left_camera_optical_frame'  K=ok  TF_img=ok\n",
            "[DBG] img_frame='zed_left_camera_optical_frame'  K=ok  TF_img=ok\n",
            "[DBG] img_frame='zed_left_camera_optical_frame'  K=ok  TF_img=ok\n",
            "[DBG] img_frame='zed_left_camera_optical_frame'  K=ok  TF_img=ok\n",
            "[DBG] img_frame='zed_left_camera_optical_frame'  K=ok  TF_img=ok\n",
            "[DBG] img_frame='zed_left_camera_optical_frame'  K=ok  TF_img=ok\n",
            "[DBG] img_frame='zed_left_camera_optical_frame'  K=ok  TF_img=ok\n",
            "[DBG] img_frame='zed_left_camera_optical_frame'  K=ok  TF_img=ok\n",
            "[DBG] img_frame='zed_left_camera_optical_frame'  K=ok  TF_img=ok\n",
            "[DBG] img_frame='zed_left_camera_optical_frame'  K=ok  TF_img=ok\n",
            "[DBG] img_frame='zed_left_camera_optical_frame'  K=ok  TF_img=ok\n",
            "[DBG] img_frame='zed_left_camera_optical_frame'  K=ok  TF_img=ok\n",
            "[DBG] img_frame='zed_left_camera_optical_frame'  K=ok  TF_img=ok\n",
            "[DBG] img_frame='zed_left_camera_optical_frame'  K=ok  TF_img=ok\n",
            "[DBG] img_frame='zed_left_camera_optical_frame'  K=ok  TF_img=ok\n",
            "[DBG] img_frame='zed_left_camera_optical_frame'  K=ok  TF_img=ok\n",
            "[DBG] img_frame='zed_left_camera_optical_frame'  K=ok  TF_img=ok\n",
            "[DBG] img_frame='zed_left_camera_optical_frame'  K=ok  TF_img=ok\n",
            "[DBG] img_frame='zed_left_camera_optical_frame'  K=ok  TF_img=ok\n",
            "[DBG] img_frame='zed_left_camera_optical_frame'  K=ok  TF_img=ok\n",
            "[DBG] img_frame='zed_left_camera_optical_frame'  K=ok  TF_img=ok\n",
            "[DBG] img_frame='zed_left_camera_optical_frame'  K=ok  TF_img=ok\n",
            "[DBG] img_frame='zed_left_camera_optical_frame'  K=ok  TF_img=ok\n",
            "[DBG] img_frame='zed_left_camera_optical_frame'  K=ok  TF_img=ok\n",
            "[DBG] img_frame='zed_left_camera_optical_frame'  K=ok  TF_img=ok\n",
            "[DBG] img_frame='zed_left_camera_optical_frame'  K=ok  TF_img=ok\n",
            "[DBG] img_frame='zed_left_camera_optical_frame'  K=ok  TF_img=ok\n",
            "[DBG] img_frame='zed_left_camera_optical_frame'  K=ok  TF_img=ok\n",
            "[DBG] img_frame='zed_left_camera_optical_frame'  K=ok  TF_img=ok\n",
            "[DBG] img_frame='zed_left_camera_optical_frame'  K=ok  TF_img=ok\n",
            "[DBG] img_frame='zed_left_camera_optical_frame'  K=ok  TF_img=ok\n",
            "[DBG] img_frame='zed_left_camera_optical_frame'  K=ok  TF_img=ok\n",
            "[DBG] img_frame='zed_left_camera_optical_frame'  K=ok  TF_img=ok\n",
            "[DBG] img_frame='zed_left_camera_optical_frame'  K=ok  TF_img=ok\n",
            "[DBG] img_frame='zed_left_camera_optical_frame'  K=ok  TF_img=ok\n",
            "[DBG] img_frame='zed_left_camera_optical_frame'  K=ok  TF_img=ok\n",
            "[DBG] img_frame='zed_left_camera_optical_frame'  K=ok  TF_img=ok\n",
            "Colorizing & merging clouds:  91% 91/100 [00:00<00:00, 467.15it/s][DBG] img_frame='zed_left_camera_optical_frame'  K=ok  TF_img=ok\n",
            "[DBG] img_frame='zed_left_camera_optical_frame'  K=ok  TF_img=ok\n",
            "[DBG] img_frame='zed_left_camera_optical_frame'  K=ok  TF_img=ok\n",
            "[DBG] img_frame='zed_left_camera_optical_frame'  K=ok  TF_img=ok\n",
            "[DBG] img_frame='zed_left_camera_optical_frame'  K=ok  TF_img=ok\n",
            "[DBG] img_frame='zed_left_camera_optical_frame'  K=ok  TF_img=ok\n",
            "[DBG] img_frame='zed_left_camera_optical_frame'  K=ok  TF_img=ok\n",
            "[DBG] img_frame='zed_left_camera_optical_frame'  K=ok  TF_img=ok\n",
            "[DBG] img_frame='zed_left_camera_optical_frame'  K=ok  TF_img=ok\n",
            "Colorizing & merging clouds: 100% 100/100 [00:00<00:00, 458.52it/s]\n",
            "[STATS] clouds_in=100  transformed=100  colored_clouds=100\n",
            "[STATS] points_total=2003040  colored_points~=259326\n",
            "[STATS] TF cloud ok/fail: 100/0  TF img ok/fail: 100/0\n",
            "[OK] Wrote colored point cloud → /content/office_colored_debug.ply\n"
          ]
        }
      ]
    },
    {
      "cell_type": "code",
      "source": [
        "BAG = \"/content/drive/MyDrive/Perceptra/Challenge Surveys/bathroom/rosbag2_2025_10_20-16_47_22\"\n",
        "\n",
        "!python /content/list_bag_topics.py --bags \"$BAG\"\n"
      ],
      "metadata": {
        "colab": {
          "base_uri": "https://localhost:8080/"
        },
        "id": "yXgl27-SdOVm",
        "outputId": "c8bb388c-e6ad-4af8-c614-6dde4a18f7bf"
      },
      "execution_count": 30,
      "outputs": [
        {
          "output_type": "stream",
          "name": "stdout",
          "text": [
            "== Available topics ==\n",
            "/imu                                           sensor_msgs/msg/Imu\n",
            "/imu                                           sensor_msgs/msg/Imu\n",
            "/imu                                           sensor_msgs/msg/Imu\n",
            "/livox/imu                                     sensor_msgs/msg/Imu\n",
            "/livox/imu                                     sensor_msgs/msg/Imu\n",
            "/livox/imu                                     sensor_msgs/msg/Imu\n",
            "/livox/lidar                                   sensor_msgs/msg/PointCloud2\n",
            "/livox/lidar                                   sensor_msgs/msg/PointCloud2\n",
            "/livox/lidar                                   sensor_msgs/msg/PointCloud2\n",
            "/odom                                          nav_msgs/msg/Odometry\n",
            "/odom                                          nav_msgs/msg/Odometry\n",
            "/odom                                          nav_msgs/msg/Odometry\n",
            "/scan                                          sensor_msgs/msg/LaserScan\n",
            "/scan                                          sensor_msgs/msg/LaserScan\n",
            "/scan                                          sensor_msgs/msg/LaserScan\n",
            "/tf                                            tf2_msgs/msg/TFMessage\n",
            "/tf                                            tf2_msgs/msg/TFMessage\n",
            "/tf                                            tf2_msgs/msg/TFMessage\n",
            "/tf_static                                     tf2_msgs/msg/TFMessage\n",
            "/zed/zed_node/depth/depth_registered/compressedDepth  sensor_msgs/msg/CompressedImage\n",
            "/zed/zed_node/depth/depth_registered/compressedDepth  sensor_msgs/msg/CompressedImage\n",
            "/zed/zed_node/depth/depth_registered/compressedDepth  sensor_msgs/msg/CompressedImage\n",
            "/zed/zed_node/odom                             nav_msgs/msg/Odometry\n",
            "/zed/zed_node/odom                             nav_msgs/msg/Odometry\n",
            "/zed/zed_node/odom                             nav_msgs/msg/Odometry\n",
            "/zed/zed_node/rgb/camera_info                  sensor_msgs/msg/CameraInfo\n",
            "/zed/zed_node/rgb/camera_info                  sensor_msgs/msg/CameraInfo\n",
            "/zed/zed_node/rgb/camera_info                  sensor_msgs/msg/CameraInfo\n",
            "/zed/zed_node/rgb/image_rect_color/compressed  sensor_msgs/msg/CompressedImage\n",
            "/zed/zed_node/rgb/image_rect_color/compressed  sensor_msgs/msg/CompressedImage\n",
            "/zed/zed_node/rgb/image_rect_color/compressed  sensor_msgs/msg/CompressedImage\n",
            "\n",
            "Pick:\n",
            "  --cloud-topic  <topic with sensor_msgs/msg/PointCloud2>\n",
            "  --image-topic  <topic with sensor_msgs/msg/Image>\n",
            "  --caminfo-topic <topic with sensor_msgs/msg/CameraInfo>\n"
          ]
        }
      ]
    },
    {
      "cell_type": "code",
      "source": [
        "!python /content/drive/MyDrive/Perceptra/scripts/colorize_and_merge.py \\\n",
        "  --bags \"{BAG}\" \\\n",
        "  --cloud-topic \"/livox/lidar\" \\\n",
        "  --image-topic \"/zed/zed_node/rgb/image_rect_color/compressed\" \\\n",
        "  --caminfo-topic \"/zed/zed_node/rgb/camera_info\" \\\n",
        "  --tf-topics /tf /tf_static \\\n",
        "  --world-frame base_link \\\n",
        "  --sync-tol 0.5 \\\n",
        "  --stride 6 \\\n",
        "  --max-clouds 600 \\\n",
        "  --voxel 0.15 \\\n",
        "  --verbose \\\n",
        "  --out /content/bathroom_colored.ply\n"
      ],
      "metadata": {
        "colab": {
          "base_uri": "https://localhost:8080/"
        },
        "id": "yEqrf9VNZTYx",
        "outputId": "8f268648-7cee-4369-ca4d-459966b52644"
      },
      "execution_count": 31,
      "outputs": [
        {
          "output_type": "stream",
          "name": "stdout",
          "text": [
            "[INFO] clouds: 100  images: 1347  camera frames: ['zed_left_camera_optical_frame']\n",
            "\rColorizing & merging clouds:   0% 0/100 [00:00<?, ?it/s][DBG] img_frame='zed_left_camera_optical_frame'  K=ok  TF_img=ok\n",
            "[DBG] img_frame='zed_left_camera_optical_frame'  K=ok  TF_img=ok\n",
            "[DBG] img_frame='zed_left_camera_optical_frame'  K=ok  TF_img=ok\n",
            "[DBG] img_frame='zed_left_camera_optical_frame'  K=ok  TF_img=ok\n",
            "[DBG] img_frame='zed_left_camera_optical_frame'  K=ok  TF_img=ok\n",
            "[DBG] img_frame='zed_left_camera_optical_frame'  K=ok  TF_img=ok\n",
            "[DBG] img_frame='zed_left_camera_optical_frame'  K=ok  TF_img=ok\n",
            "[DBG] img_frame='zed_left_camera_optical_frame'  K=ok  TF_img=ok\n",
            "[DBG] img_frame='zed_left_camera_optical_frame'  K=ok  TF_img=ok\n",
            "[DBG] img_frame='zed_left_camera_optical_frame'  K=ok  TF_img=ok\n",
            "[DBG] img_frame='zed_left_camera_optical_frame'  K=ok  TF_img=ok\n",
            "[DBG] img_frame='zed_left_camera_optical_frame'  K=ok  TF_img=ok\n",
            "[DBG] img_frame='zed_left_camera_optical_frame'  K=ok  TF_img=ok\n",
            "[DBG] img_frame='zed_left_camera_optical_frame'  K=ok  TF_img=ok\n",
            "[DBG] img_frame='zed_left_camera_optical_frame'  K=ok  TF_img=ok\n",
            "[DBG] img_frame='zed_left_camera_optical_frame'  K=ok  TF_img=ok\n",
            "[DBG] img_frame='zed_left_camera_optical_frame'  K=ok  TF_img=ok\n",
            "[DBG] img_frame='zed_left_camera_optical_frame'  K=ok  TF_img=ok\n",
            "[DBG] img_frame='zed_left_camera_optical_frame'  K=ok  TF_img=ok\n",
            "[DBG] img_frame='zed_left_camera_optical_frame'  K=ok  TF_img=ok\n",
            "[DBG] img_frame='zed_left_camera_optical_frame'  K=ok  TF_img=ok\n",
            "[DBG] img_frame='zed_left_camera_optical_frame'  K=ok  TF_img=ok\n",
            "[DBG] img_frame='zed_left_camera_optical_frame'  K=ok  TF_img=ok\n",
            "[DBG] img_frame='zed_left_camera_optical_frame'  K=ok  TF_img=ok\n",
            "[DBG] img_frame='zed_left_camera_optical_frame'  K=ok  TF_img=ok\n",
            "[DBG] img_frame='zed_left_camera_optical_frame'  K=ok  TF_img=ok\n",
            "[DBG] img_frame='zed_left_camera_optical_frame'  K=ok  TF_img=ok\n",
            "[DBG] img_frame='zed_left_camera_optical_frame'  K=ok  TF_img=ok\n",
            "[DBG] img_frame='zed_left_camera_optical_frame'  K=ok  TF_img=ok\n",
            "[DBG] img_frame='zed_left_camera_optical_frame'  K=ok  TF_img=ok\n",
            "[DBG] img_frame='zed_left_camera_optical_frame'  K=ok  TF_img=ok\n",
            "[DBG] img_frame='zed_left_camera_optical_frame'  K=ok  TF_img=ok\n",
            "[DBG] img_frame='zed_left_camera_optical_frame'  K=ok  TF_img=ok\n",
            "[DBG] img_frame='zed_left_camera_optical_frame'  K=ok  TF_img=ok\n",
            "[DBG] img_frame='zed_left_camera_optical_frame'  K=ok  TF_img=ok\n",
            "[DBG] img_frame='zed_left_camera_optical_frame'  K=ok  TF_img=ok\n",
            "[DBG] img_frame='zed_left_camera_optical_frame'  K=ok  TF_img=ok\n",
            "[DBG] img_frame='zed_left_camera_optical_frame'  K=ok  TF_img=ok\n",
            "[DBG] img_frame='zed_left_camera_optical_frame'  K=ok  TF_img=ok\n",
            "[DBG] img_frame='zed_left_camera_optical_frame'  K=ok  TF_img=ok\n",
            "[DBG] img_frame='zed_left_camera_optical_frame'  K=ok  TF_img=ok\n",
            "[DBG] img_frame='zed_left_camera_optical_frame'  K=ok  TF_img=ok\n",
            "[DBG] img_frame='zed_left_camera_optical_frame'  K=ok  TF_img=ok\n",
            "[DBG] img_frame='zed_left_camera_optical_frame'  K=ok  TF_img=ok\n",
            "[DBG] img_frame='zed_left_camera_optical_frame'  K=ok  TF_img=ok\n",
            "[DBG] img_frame='zed_left_camera_optical_frame'  K=ok  TF_img=ok\n",
            "[DBG] img_frame='zed_left_camera_optical_frame'  K=ok  TF_img=ok\n",
            "[DBG] img_frame='zed_left_camera_optical_frame'  K=ok  TF_img=ok\n",
            "[DBG] img_frame='zed_left_camera_optical_frame'  K=ok  TF_img=ok\n",
            "[DBG] img_frame='zed_left_camera_optical_frame'  K=ok  TF_img=ok\n",
            "[DBG] img_frame='zed_left_camera_optical_frame'  K=ok  TF_img=ok\n",
            "[DBG] img_frame='zed_left_camera_optical_frame'  K=ok  TF_img=ok\n",
            "[DBG] img_frame='zed_left_camera_optical_frame'  K=ok  TF_img=ok\n",
            "\rColorizing & merging clouds:  53% 53/100 [00:00<00:00, 527.44it/s][DBG] img_frame='zed_left_camera_optical_frame'  K=ok  TF_img=ok\n",
            "[DBG] img_frame='zed_left_camera_optical_frame'  K=ok  TF_img=ok\n",
            "[DBG] img_frame='zed_left_camera_optical_frame'  K=ok  TF_img=ok\n",
            "[DBG] img_frame='zed_left_camera_optical_frame'  K=ok  TF_img=ok\n",
            "[DBG] img_frame='zed_left_camera_optical_frame'  K=ok  TF_img=ok\n",
            "[DBG] img_frame='zed_left_camera_optical_frame'  K=ok  TF_img=ok\n",
            "[DBG] img_frame='zed_left_camera_optical_frame'  K=ok  TF_img=ok\n",
            "[DBG] img_frame='zed_left_camera_optical_frame'  K=ok  TF_img=ok\n",
            "[DBG] img_frame='zed_left_camera_optical_frame'  K=ok  TF_img=ok\n",
            "[DBG] img_frame='zed_left_camera_optical_frame'  K=ok  TF_img=ok\n",
            "[DBG] img_frame='zed_left_camera_optical_frame'  K=ok  TF_img=ok\n",
            "[DBG] img_frame='zed_left_camera_optical_frame'  K=ok  TF_img=ok\n",
            "[DBG] img_frame='zed_left_camera_optical_frame'  K=ok  TF_img=ok\n",
            "[DBG] img_frame='zed_left_camera_optical_frame'  K=ok  TF_img=ok\n",
            "[DBG] img_frame='zed_left_camera_optical_frame'  K=ok  TF_img=ok\n",
            "[DBG] img_frame='zed_left_camera_optical_frame'  K=ok  TF_img=ok\n",
            "[DBG] img_frame='zed_left_camera_optical_frame'  K=ok  TF_img=ok\n",
            "[DBG] img_frame='zed_left_camera_optical_frame'  K=ok  TF_img=ok\n",
            "[DBG] img_frame='zed_left_camera_optical_frame'  K=ok  TF_img=ok\n",
            "[DBG] img_frame='zed_left_camera_optical_frame'  K=ok  TF_img=ok\n",
            "[DBG] img_frame='zed_left_camera_optical_frame'  K=ok  TF_img=ok\n",
            "[DBG] img_frame='zed_left_camera_optical_frame'  K=ok  TF_img=ok\n",
            "[DBG] img_frame='zed_left_camera_optical_frame'  K=ok  TF_img=ok\n",
            "[DBG] img_frame='zed_left_camera_optical_frame'  K=ok  TF_img=ok\n",
            "[DBG] img_frame='zed_left_camera_optical_frame'  K=ok  TF_img=ok\n",
            "[DBG] img_frame='zed_left_camera_optical_frame'  K=ok  TF_img=ok\n",
            "[DBG] img_frame='zed_left_camera_optical_frame'  K=ok  TF_img=ok\n",
            "[DBG] img_frame='zed_left_camera_optical_frame'  K=ok  TF_img=ok\n",
            "[DBG] img_frame='zed_left_camera_optical_frame'  K=ok  TF_img=ok\n",
            "[DBG] img_frame='zed_left_camera_optical_frame'  K=ok  TF_img=ok\n",
            "[DBG] img_frame='zed_left_camera_optical_frame'  K=ok  TF_img=ok\n",
            "[DBG] img_frame='zed_left_camera_optical_frame'  K=ok  TF_img=ok\n",
            "[DBG] img_frame='zed_left_camera_optical_frame'  K=ok  TF_img=ok\n",
            "[DBG] img_frame='zed_left_camera_optical_frame'  K=ok  TF_img=ok\n",
            "[DBG] img_frame='zed_left_camera_optical_frame'  K=ok  TF_img=ok\n",
            "[DBG] img_frame='zed_left_camera_optical_frame'  K=ok  TF_img=ok\n",
            "[DBG] img_frame='zed_left_camera_optical_frame'  K=ok  TF_img=ok\n",
            "[DBG] img_frame='zed_left_camera_optical_frame'  K=ok  TF_img=ok\n",
            "[DBG] img_frame='zed_left_camera_optical_frame'  K=ok  TF_img=ok\n",
            "[DBG] img_frame='zed_left_camera_optical_frame'  K=ok  TF_img=ok\n",
            "[DBG] img_frame='zed_left_camera_optical_frame'  K=ok  TF_img=ok\n",
            "[DBG] img_frame='zed_left_camera_optical_frame'  K=ok  TF_img=ok\n",
            "[DBG] img_frame='zed_left_camera_optical_frame'  K=ok  TF_img=ok\n",
            "[DBG] img_frame='zed_left_camera_optical_frame'  K=ok  TF_img=ok\n",
            "[DBG] img_frame='zed_left_camera_optical_frame'  K=ok  TF_img=ok\n",
            "[DBG] img_frame='zed_left_camera_optical_frame'  K=ok  TF_img=ok\n",
            "[DBG] img_frame='zed_left_camera_optical_frame'  K=ok  TF_img=ok\n",
            "\rColorizing & merging clouds: 100% 100/100 [00:00<00:00, 525.48it/s]\n",
            "[STATS] clouds_in=100  transformed=100  colored_clouds=100\n",
            "[STATS] points_total=1986048  colored_points~=315659\n",
            "[STATS] TF cloud ok/fail: 100/0  TF img ok/fail: 100/0\n",
            "[OK] Wrote colored point cloud → /content/bathroom_colored.ply\n"
          ]
        }
      ]
    },
    {
      "cell_type": "code",
      "source": [
        "!python /content/drive/MyDrive/Perceptra/test/verify_ch2.py --ply /content/office_colored.ply /content/bathroom_colored.ply --out ch2_verify_results\n"
      ],
      "metadata": {
        "colab": {
          "base_uri": "https://localhost:8080/"
        },
        "id": "LU_tr2mRVyXO",
        "outputId": "a55ce111-b550-4fcd-eb6a-7119f972cc1b"
      },
      "execution_count": 32,
      "outputs": [
        {
          "output_type": "stream",
          "name": "stdout",
          "text": [
            "error: XDG_RUNTIME_DIR not set in the environment.\n",
            "\u001b[1;33m[Open3D WARNING] GLFW Error: Failed to detect any supported platform\u001b[0;m\n",
            "\u001b[1;33m[Open3D WARNING] GLFW initialized for headless rendering.\u001b[0;m\n",
            "\u001b[1;33m[Open3D WARNING] GLFW Error: OSMesa: Library not found\u001b[0;m\n",
            "\u001b[1;33m[Open3D WARNING] Failed to create window\u001b[0;m\n",
            "\u001b[1;33m[Open3D WARNING] GLFW initialized for headless rendering.\u001b[0;m\n",
            "\u001b[1;33m[Open3D WARNING] GLFW Error: OSMesa: Library not found\u001b[0;m\n",
            "\u001b[1;33m[Open3D WARNING] Failed to create window\u001b[0;m\n",
            "[OK] Wrote report to ch2_verify_results/report.json\n",
            "- /content/office_colored.ply: 72369 pts | colored: 24.3% | extent (m): [21.538 22.33   4.47 ]\n",
            "  proj preview: ch2_verify_results/office_colored_proj.png\n",
            "- /content/bathroom_colored.ply: 13312 pts | colored: 21.2% | extent (m): [6.379 9.132 2.749]\n",
            "  proj preview: ch2_verify_results/bathroom_colored_proj.png\n"
          ]
        }
      ]
    }
  ]
}